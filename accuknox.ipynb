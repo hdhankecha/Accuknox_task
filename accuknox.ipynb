{
 "cells": [
  {
   "cell_type": "markdown",
   "id": "8a4ffdf67f4bb428",
   "metadata": {},
   "source": [
    "Questions for Django Trainee at Accuknox\n",
    "\n",
    "Topic: Django Signals\n",
    "\n",
    "Question 1: By default are django signals executed synchronously or asynchronously? Please support your answer with a code snippet that conclusively proves your stance. The code does not need to be elegant and production ready, we just need to understand your logic.\n",
    "\n",
    "\n",
    "\n"
   ]
  },
  {
   "cell_type": "code",
   "execution_count": null,
   "id": "initial_id",
   "metadata": {
    "collapsed": true,
    "jupyter": {
     "is_executing": true
    }
   },
   "outputs": [],
   "source": [
    "import time\n",
    "from django.db.models.signals import post_save\n",
    "from django.dispatch import receiver\n",
    "from django.contrib.auth.models import User\n",
    "\n",
    "# here is signal \n",
    "@receiver(post_save, sender=User)\n",
    "def my_handler(sender, **kwargs):\n",
    "    print(\"Signal received. Starting handler...\")\n",
    "    time.sleep(5)  # Simulate a long-running task\n",
    "    print(\"Handler finished.\")\n",
    "\n",
    "user = User(username='harsh')\n",
    "user.set_password('p123') \n",
    "user.save()\n",
    "print(\"User save completed.\")\n"
   ]
  },
  {
   "cell_type": "markdown",
   "id": "f7d78c1c",
   "metadata": {},
   "source": [
    "<b>Django signals are executed synchronously. This means the signal's receiver function will block the process and wait until it completes before continuing the execution of the subsequent code.</b>"
   ]
  },
  {
   "cell_type": "markdown",
   "id": "b0cb1460",
   "metadata": {},
   "source": [
    "<b>Question 2</b>\n",
    " Do django signals run in the same thread as the caller? Please support your answer with a code snippet that conclusively proves your stance. The code does not need to be elegant and production ready, we just need to understand your logic."
   ]
  },
  {
   "cell_type": "code",
   "execution_count": null,
   "id": "0f258ed4",
   "metadata": {},
   "outputs": [],
   "source": [
    "import time\n",
    "import threading\n",
    "from django.db.models.signals import post_save\n",
    "from django.dispatch import receiver\n",
    "from django.contrib.auth.models import User\n",
    "\n",
    "@receiver(post_save, sender=User)\n",
    "def my_handler(sender, **kwargs):\n",
    "    print(f\"Signal received in thread: {threading.current_thread().name}\")\n",
    "    time.sleep(2)  #Todo long-running task\n",
    "    print(\"Handler finished.\")\n",
    "\n",
    "print(f\"Caller thread: {threading.current_thread().name}\")\n",
    "user = User(username='testuser')\n",
    "user.set_password('password123')\n",
    "user.save()\n",
    "print(\"User save completed.\")\n"
   ]
  },
  {
   "cell_type": "markdown",
   "id": "fcb3f7a1",
   "metadata": {},
   "source": [
    "<b>Ans:-Yes, Django signals run in the same thread as the caller by default.</b>"
   ]
  },
  {
   "cell_type": "markdown",
   "id": "810c1980",
   "metadata": {},
   "source": [
    "<b>Question 3: By default do django signals run in the same database transaction as the caller? Please support your answer with a code snippet that conclusively proves your stance. The code does not need to be elegant and production ready, we just need to understand your logic.</b>\n"
   ]
  },
  {
   "cell_type": "code",
   "execution_count": null,
   "id": "569ba293",
   "metadata": {},
   "outputs": [],
   "source": [
    "\n",
    "from django.db import models, transaction\n",
    "from django.db.models.signals import post_save\n",
    "from django.dispatch import receiver\n",
    "\n",
    "class HD(models.Model):\n",
    "    name = models.CharField(max_length=255)\n",
    "\n",
    "# Define a signal receiver\n",
    "@receiver(post_save, sender=HD)\n",
    "def my_signal_receiver(sender, instance, **kwargs):\n",
    "    print(f\"Signal received instance with name: {instance.name}\")\n",
    "    raise RuntimeError(\"Error in signal handler\")\n",
    "\n",
    "# Create a model instance in transaction\n",
    "try:\n",
    "    with transaction.atomic():\n",
    "        print(\"Starting transaction...\")\n",
    "        my_obj = HD(name=\"hd\")\n",
    "        my_obj.save()  # This trigger the post_save signal, and the exception will be raised\n",
    "except RuntimeError as e:\n",
    "    print(f\"Error caught: {e}\")\n",
    "\n",
    "# Check if the model instance was saved and it shouldn't be, because the transaction will roll back\n",
    "if HD.objects.filter(name=\"hd\").exists():\n",
    "    print(\"Model instance was saved\")\n",
    "else:\n",
    "    print(\"rollback successful\")\n",
    "\n"
   ]
  },
  {
   "cell_type": "markdown",
   "id": "58273252",
   "metadata": {},
   "source": [
    "<b>Yes, by default, Django signals run in the same database transaction as the caller. If an exception is raised in the signal handler, it will roll back the entire transaction, including the model save operation that triggered the signal.\n",
    "</b>\n"
   ]
  },
  {
   "cell_type": "code",
   "execution_count": null,
   "id": "52e9cd4b",
   "metadata": {},
   "outputs": [],
   "source": []
  },
  {
   "cell_type": "markdown",
   "id": "83cb4712",
   "metadata": {},
   "source": [
    "Topic: Custom Classes in Python\n",
    "\n",
    "Description: You are tasked with creating a Rectangle class with the following requirements:\n",
    "\n",
    "An instance of the Rectangle class requires length:int and width:int to be initialized.\n",
    "We can iterate over an instance of the Rectangle class \n",
    "When an instance of the Rectangle class is iterated over, we first get its length in the format: {'length': <VALUE_OF_LENGTH>} followed by the width {width: <VALUE_OF_WIDTH>}\n"
   ]
  },
  {
   "cell_type": "code",
   "execution_count": 5,
   "id": "33c9c2b7",
   "metadata": {},
   "outputs": [
    {
     "name": "stdout",
     "output_type": "stream",
     "text": [
      "{'length:': 10}\n",
      "{'width:': 6}\n"
     ]
    }
   ],
   "source": [
    "class Rectangle:\n",
    "    def __init__(self,length:int,width:int):\n",
    "        self.length = length\n",
    "        self.width = width\n",
    "\n",
    "    def __iter__(self):\n",
    "        yield{'length:': self.length}\n",
    "        yield{'width:': self.width}\n",
    "\n",
    "\n",
    "rect = Rectangle(10,6)\n",
    "\n",
    "\n",
    "for ans in rect:\n",
    "    print(ans)"
   ]
  },
  {
   "cell_type": "code",
   "execution_count": null,
   "id": "5bec55e4",
   "metadata": {},
   "outputs": [],
   "source": []
  }
 ],
 "metadata": {
  "kernelspec": {
   "display_name": "Python 3",
   "language": "python",
   "name": "python3"
  },
  "language_info": {
   "codemirror_mode": {
    "name": "ipython",
    "version": 3
   },
   "file_extension": ".py",
   "mimetype": "text/x-python",
   "name": "python",
   "nbconvert_exporter": "python",
   "pygments_lexer": "ipython3",
   "version": "3.10.11"
  }
 },
 "nbformat": 4,
 "nbformat_minor": 5
}
